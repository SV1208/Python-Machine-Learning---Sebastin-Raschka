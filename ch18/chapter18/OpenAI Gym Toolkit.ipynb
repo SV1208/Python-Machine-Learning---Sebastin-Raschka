{
 "cells": [
  {
   "cell_type": "markdown",
   "id": "b7521ee8",
   "metadata": {},
   "source": [
    "<h1>Reinforcement Learning using OpenAI Gym Toolkit</h1>"
   ]
  },
  {
   "cell_type": "code",
   "execution_count": 1,
   "id": "0ae7512b",
   "metadata": {},
   "outputs": [],
   "source": [
    "import gym"
   ]
  },
  {
   "cell_type": "markdown",
   "id": "fb3753a7",
   "metadata": {},
   "source": [
    "<h3> CartPole</h3>"
   ]
  },
  {
   "cell_type": "code",
   "execution_count": 2,
   "id": "28905d04",
   "metadata": {},
   "outputs": [],
   "source": [
    "# An environment with a pole on a box\n",
    "# You have balance pole by moving the underneath kept box\n",
    "env = gym.make('CartPole-v1')"
   ]
  },
  {
   "cell_type": "code",
   "execution_count": 3,
   "id": "be1f04ac",
   "metadata": {},
   "outputs": [
    {
     "data": {
      "text/plain": [
       "Box([-4.8000002e+00 -3.4028235e+38 -4.1887903e-01 -3.4028235e+38], [4.8000002e+00 3.4028235e+38 4.1887903e-01 3.4028235e+38], (4,), float32)"
      ]
     },
     "execution_count": 3,
     "metadata": {},
     "output_type": "execute_result"
    }
   ],
   "source": [
    "env.observation_space"
   ]
  },
  {
   "cell_type": "code",
   "execution_count": 4,
   "id": "a37ba519",
   "metadata": {},
   "outputs": [
    {
     "data": {
      "text/plain": [
       "Discrete(2)"
      ]
     },
     "execution_count": 4,
     "metadata": {},
     "output_type": "execute_result"
    }
   ],
   "source": [
    "env.action_space"
   ]
  },
  {
   "cell_type": "code",
   "execution_count": 5,
   "id": "a2628e1f",
   "metadata": {},
   "outputs": [
    {
     "data": {
      "text/plain": [
       "array([-0.04940246, -0.02994419,  0.00535911, -0.01488149], dtype=float32)"
      ]
     },
     "execution_count": 5,
     "metadata": {},
     "output_type": "execute_result"
    }
   ],
   "source": [
    "env.reset()\n",
    "#[initail positon of cart, velocity of cart, angle of pole in radian, angular velocity of tip of pole]"
   ]
  },
  {
   "cell_type": "code",
   "execution_count": 10,
   "id": "09ab672d",
   "metadata": {},
   "outputs": [
    {
     "data": {
      "text/plain": [
       "(array([-0.0680261 , -0.2257427 ,  0.02771553,  0.29281503], dtype=float32),\n",
       " 1.0,\n",
       " False,\n",
       " {})"
      ]
     },
     "execution_count": 10,
     "metadata": {},
     "output_type": "execute_result"
    }
   ],
   "source": [
    "env.step(action=0) # moved to left\n",
    "env.step(action=1) # moved to right\n",
    "\n",
    "#(new_observation_space, reward, termination_flag, auxillary_info)"
   ]
  },
  {
   "cell_type": "code",
   "execution_count": 13,
   "id": "dc225d75",
   "metadata": {},
   "outputs": [
    {
     "data": {
      "text/plain": [
       "<bound method Wrapper.render of <TimeLimit<CartPoleEnv<CartPole-v1>>>>"
      ]
     },
     "execution_count": 13,
     "metadata": {},
     "output_type": "execute_result"
    }
   ],
   "source": [
    "# To view the environment\n",
    "env.render"
   ]
  },
  {
   "cell_type": "markdown",
   "id": "ff90d5e2",
   "metadata": {},
   "source": [
    "<h3>Grid World</h3>"
   ]
  },
  {
   "cell_type": "code",
   "execution_count": null,
   "id": "73006de3",
   "metadata": {},
   "outputs": [],
   "source": []
  }
 ],
 "metadata": {
  "kernelspec": {
   "display_name": "Python 3 (ipykernel)",
   "language": "python",
   "name": "python3"
  },
  "language_info": {
   "codemirror_mode": {
    "name": "ipython",
    "version": 3
   },
   "file_extension": ".py",
   "mimetype": "text/x-python",
   "name": "python",
   "nbconvert_exporter": "python",
   "pygments_lexer": "ipython3",
   "version": "3.7.12"
  }
 },
 "nbformat": 4,
 "nbformat_minor": 5
}
